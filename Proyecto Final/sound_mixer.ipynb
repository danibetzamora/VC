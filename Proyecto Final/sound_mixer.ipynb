{
 "cells": [
  {
   "cell_type": "markdown",
   "metadata": {},
   "source": [
    "#### Paquetes necesarios"
   ]
  },
  {
   "cell_type": "code",
   "execution_count": 3,
   "metadata": {},
   "outputs": [],
   "source": [
    "import cv2\n",
    "import numpy as np\n",
    "import pygame\n",
    "import mediapipe as mp\n",
    "from mediapipe.tasks import python\n",
    "from mediapipe.tasks.python import vision"
   ]
  },
  {
   "cell_type": "markdown",
   "metadata": {},
   "source": [
    "#### Inicialización de Variables para Detección de Manos"
   ]
  },
  {
   "cell_type": "code",
   "execution_count": 4,
   "metadata": {},
   "outputs": [],
   "source": [
    "# Modelo de detección de manos\n",
    "model_path = 'hand_landmarker.task'\n",
    "\n",
    "# Opciones del objeto HandLandmarker\n",
    "base_options = python.BaseOptions(model_asset_path=model_path)\n",
    "options = vision.HandLandmarkerOptions(base_options=base_options,\n",
    "                                       num_hands=2)\n",
    "\n",
    "# Detector de manos\n",
    "detector = vision.HandLandmarker.create_from_options(options)"
   ]
  },
  {
   "cell_type": "markdown",
   "metadata": {},
   "source": [
    "#### Método de Localización de la Mano"
   ]
  },
  {
   "cell_type": "code",
   "execution_count": 5,
   "metadata": {},
   "outputs": [],
   "source": [
    "def detect_hand_position(mp_image):\n",
    "    detection_result = detector.detect(mp_image)\n",
    "\n",
    "    # Si hay detección de manos, procesar el resultado\n",
    "    if len(detection_result.hand_landmarks) > 0:\n",
    "        # Coordenadas del centro de la mano\n",
    "        center_position = detection_result.hand_landmarks[0][9]\n",
    "        return center_position.x, center_position.y\n",
    "    else:\n",
    "        return None, None"
   ]
  },
  {
   "cell_type": "markdown",
   "metadata": {},
   "source": [
    "#### Método de Detección de Gestos"
   ]
  },
  {
   "cell_type": "code",
   "execution_count": 6,
   "metadata": {},
   "outputs": [],
   "source": [
    "# Función para detectar gesto de la mano y devolver el resultado\n",
    "def detect_gesture(mp_image):\n",
    "    # Detección de landmarks\n",
    "    detection_result = detector.detect(mp_image)\n",
    "\n",
    "    # Si hay detección de manos, procesar el resultado\n",
    "    if len(detection_result.hand_landmarks) > 0:\n",
    "        # Obtener coordenadas de los dedos y la base de la mano\n",
    "        thumb_position = detection_result.hand_landmarks[0][4]\n",
    "        index_position = detection_result.hand_landmarks[0][8]\n",
    "        middle_position = detection_result.hand_landmarks[0][12]\n",
    "        ring_position = detection_result.hand_landmarks[0][16]\n",
    "        pinky_position = detection_result.hand_landmarks[0][20]\n",
    "        palm_base = detection_result.hand_landmarks[0][0]\n",
    "\n",
    "        # Calcular la distancia entre los dedos y la base de la mano\n",
    "        distance1 = np.sqrt((index_position.x - palm_base.x)**2 + (index_position.y - palm_base.y)**2 + (index_position.z - palm_base.z)**2)\n",
    "        distance2 = np.sqrt((middle_position.x - palm_base.x)**2 + (middle_position.y - palm_base.y)**2 + (middle_position.z - palm_base.z)**2)\n",
    "        distance3 = np.sqrt((ring_position.x - palm_base.x)**2 + (ring_position.y - palm_base.y)**2 + (ring_position.z - palm_base.z)**2)\n",
    "        distance4 = np.sqrt((pinky_position.x - palm_base.x)**2 + (pinky_position.y - palm_base.y)**2 + (pinky_position.z - palm_base.z)**2)\n",
    "        distance5 = np.sqrt((thumb_position.x - palm_base.x)**2 + (thumb_position.y - palm_base.y)**2 + (thumb_position.z - palm_base.z)**2)\n",
    "        thumb_index_distance = np.sqrt((thumb_position.x - index_position.x)**2 + (thumb_position.y - index_position.y)**2 + (thumb_position.z - index_position.z)**2)\n",
    "\n",
    "        treshold = 0.20\n",
    "\n",
    "        if distance1 > treshold and distance2 < treshold and distance3 < treshold and distance4 < treshold:\n",
    "           return \"1\"\n",
    "        elif distance1 > treshold and distance2 > treshold and distance3 < treshold and distance4 < treshold:\n",
    "            return \"2\"\n",
    "        elif distance1 > treshold and distance2 > treshold and distance3 > treshold and distance4 < treshold:\n",
    "            return \"3\"\n",
    "        elif distance1 < treshold and distance2 < treshold and distance3 < treshold and distance4 < treshold:\n",
    "            return \"closed\"\n",
    "        else:\n",
    "            return \"open\"\n",
    "    else:\n",
    "        return \"no hands\""
   ]
  },
  {
   "cell_type": "markdown",
   "metadata": {},
   "source": [
    "#### Mezclador de Sonidos a través de Webcam"
   ]
  },
  {
   "cell_type": "code",
   "execution_count": 7,
   "metadata": {},
   "outputs": [],
   "source": [
    "# Inicializar Pygame para la reproducción de sonidos\n",
    "pygame.mixer.init()\n",
    "\n",
    "# Definir sonidos para la base e instrumento\n",
    "sound_1 = pygame.mixer.Sound(\"./sounds/trap/trap_piano.wav\")\n",
    "sound_2 = pygame.mixer.Sound(\"./sounds/trap/trap_drums.wav\")\n",
    "sound_3 = pygame.mixer.Sound(\"./sounds/trap/trap_bells.wav\")\n",
    "sound_4 = pygame.mixer.Sound(\"./sounds/trap/trap_vocals.wav\")\n",
    "\n",
    "# Definir los canales de reproducción\n",
    "channel_1 = pygame.mixer.Channel(1)\n",
    "channel_2 = pygame.mixer.Channel(2)\n",
    "channel_3 = pygame.mixer.Channel(3)\n",
    "channel_4 = pygame.mixer.Channel(4)\n",
    "\n",
    "# Variables de control de reproducción\n",
    "sound1_playing = False\n",
    "sound2_playing = False\n",
    "sound3_playing = False\n",
    "sound4_playing = False\n",
    "\n",
    "# Inicializar la webcam\n",
    "cap = cv2.VideoCapture(0)\n",
    "\n",
    "while cap.isOpened():\n",
    "    ret, frame = cap.read()\n",
    "    if not ret:\n",
    "        break\n",
    "\n",
    "    # Corregir la inversión horizontal del frame\n",
    "    frame = cv2.flip(frame, 1)\n",
    "\n",
    "    # Crear imagen compatible con MediaPipe a partir del frame\n",
    "    mp_image = mp.Image(image_format=mp.ImageFormat.SRGB, data=frame)\n",
    "\n",
    "    # Detección de posición de la mano\n",
    "    x, y = detect_hand_position(mp_image)\n",
    "    \n",
    "    # Detección de gesto\n",
    "    gesture = detect_gesture(mp_image)\n",
    "\n",
    "    if x != None and y != None:\n",
    "        height, width, _ = frame.shape\n",
    "        x = int(x * width)\n",
    "        y = int(y * height)\n",
    "\n",
    "        # Reproducir sonido dependiendo de la posición de la mano\n",
    "        if x < frame.shape[1] // 2 and y < frame.shape[0] // 2:\n",
    "            if gesture == \"open\" and not sound1_playing:\n",
    "                channel_1.play(sound_1, loops=-1)\n",
    "                sound1_playing = True\n",
    "            elif gesture == \"closed\" and sound1_playing:\n",
    "                channel_1.stop()\n",
    "                sound1_playing = False\n",
    "        elif x >= frame.shape[1] // 2 and y < frame.shape[0] // 2:\n",
    "            if gesture == \"open\" and not sound2_playing:\n",
    "                channel_2.play(sound_2, loops=-1)\n",
    "                sound2_playing = True\n",
    "            elif gesture == \"closed\" and sound2_playing:\n",
    "                channel_2.stop()\n",
    "                sound2_playing = False\n",
    "        elif x < frame.shape[1] // 2 and y >= frame.shape[0] // 2:\n",
    "            if gesture == \"open\" and not sound3_playing:\n",
    "                channel_3.play(sound_3, loops=-1)\n",
    "                sound3_playing = True\n",
    "            elif gesture == \"closed\" and sound3_playing:\n",
    "                channel_3.stop()\n",
    "                sound3_playing = False\n",
    "        elif x >= frame.shape[1] // 2 and y >= frame.shape[0] // 2:\n",
    "            if gesture == \"open\" and not sound4_playing:\n",
    "                channel_4.play(sound_4, loops=-1)\n",
    "                sound4_playing = True\n",
    "            elif gesture == \"closed\" and sound4_playing:\n",
    "                channel_4.stop()\n",
    "                sound4_playing = False\n",
    "\n",
    "    # Obtiene las dimensiones del frame\n",
    "    # height, width, _ = frame.shape\n",
    "\n",
    "    # Define el texto y el tipo de fuente\n",
    "    # text = \"TRAP\"\n",
    "    # font = cv2.FONT_HERSHEY_SIMPLEX\n",
    "    # font_scale = 2\n",
    "    # font_thickness = 4\n",
    "\n",
    "    # Calcula la posición para centrar el texto en la parte superior\n",
    "    # text_size = cv2.getTextSize(text, font, font_scale, font_thickness)[0]\n",
    "    # x = (width - text_size[0]) // 2\n",
    "    # y = 70  # Puedes ajustar esta posición según tus preferencias\n",
    "\n",
    "    # Dibuja el texto en la imagen\n",
    "    # cv2.putText(frame, text, (x, y), font, font_scale, (255, 255, 255), font_thickness)\n",
    "\n",
    "    # Mostrar el resultado en la ventana\n",
    "    cv2.imshow(\"Sound Mixer\", frame)\n",
    "\n",
    "    # Salir con la tecla 'q'\n",
    "    if cv2.waitKey(1) & 0xFF == ord('q'):\n",
    "        break\n",
    "\n",
    "# Liberar recursos\n",
    "cap.release()\n",
    "cv2.destroyAllWindows()\n",
    "pygame.mixer.quit()"
   ]
  }
 ],
 "metadata": {
  "kernelspec": {
   "display_name": "mediapipe",
   "language": "python",
   "name": "python3"
  },
  "language_info": {
   "codemirror_mode": {
    "name": "ipython",
    "version": 3
   },
   "file_extension": ".py",
   "mimetype": "text/x-python",
   "name": "python",
   "nbconvert_exporter": "python",
   "pygments_lexer": "ipython3",
   "version": "3.11.5"
  }
 },
 "nbformat": 4,
 "nbformat_minor": 2
}
