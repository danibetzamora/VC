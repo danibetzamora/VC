{
 "cells": [
  {
   "cell_type": "markdown",
   "metadata": {},
   "source": [
    "#### Paquetes Necesarios"
   ]
  },
  {
   "cell_type": "code",
   "execution_count": 2,
   "metadata": {},
   "outputs": [],
   "source": [
    "import cv2\n",
    "from cvzone.HandTrackingModule import HandDetector\n",
    "import pyglet\n",
    "import time\n",
    "from pydub import AudioSegment"
   ]
  },
  {
   "cell_type": "markdown",
   "metadata": {},
   "source": [
    "#### Inicialización del Detector y Utilidades"
   ]
  },
  {
   "cell_type": "code",
   "execution_count": 3,
   "metadata": {},
   "outputs": [],
   "source": [
    "detector = HandDetector(staticMode=False, maxHands=2, modelComplexity=1, detectionCon=0.5, minTrackCon=0.5)\n",
    "\n",
    "keys = [\"A\", \"B\", \"C\", \"D\", \"E\", \"F\", \"G\"]\n",
    "\n",
    "class Button():\n",
    "    def __init__(self, pos, text, size, color, border=2):\n",
    "        self.pos = pos\n",
    "        self.size = size\n",
    "        self.text = text\n",
    "        self.color = color\n",
    "        self.border = border\n",
    "        self.isPressed = False\n",
    "        self.lastPressTime = 0\n",
    "\n",
    "buttonList = []\n",
    "for j, key in enumerate(keys):\n",
    "    buttonList.append(Button([(70 * j) + 400, 50], key, [60, 140], (255, 255, 255)))\n",
    "\n",
    "current_sequence = [] \n",
    "saveButton = Button([100, 100], \"Save\", [100, 50], (255, 255, 255))\n",
    "save_counter = 1 \n",
    "\n",
    "logo = cv2.imread('./images/piano.png', cv2.IMREAD_UNCHANGED)\n",
    "logo = cv2.resize(logo, (100, 100)) "
   ]
  },
  {
   "cell_type": "markdown",
   "metadata": {},
   "source": [
    "#### Método para Tocar Teclas"
   ]
  },
  {
   "cell_type": "code",
   "execution_count": 4,
   "metadata": {},
   "outputs": [],
   "source": [
    "def playkeys(button):\n",
    "    current_time = time.time()\n",
    "    \n",
    "    if not button.isPressed and (current_time - button.lastPressTime) > 1.0:\n",
    "        audio_filename = f\"./notes/{button.text}.wav\"  # Nombre del archivo de sonido\n",
    "        pyglet.media.load(audio_filename).play()\n",
    "        button.isPressed = True\n",
    "        button.lastPressTime = current_time\n",
    "        current_sequence.append(button.text)"
   ]
  },
  {
   "cell_type": "markdown",
   "metadata": {},
   "source": [
    "#### Método para Guardar la Secuencia"
   ]
  },
  {
   "cell_type": "code",
   "execution_count": 5,
   "metadata": {},
   "outputs": [],
   "source": [
    "def save_sequence(sequence, filename=\"output_sequence\"):\n",
    "    global save_counter\n",
    "    \n",
    "    if len(sequence) > 0:\n",
    "        melody_segments = []\n",
    "\n",
    "        for note in sequence:\n",
    "            audio_filename = f\"./notes/{note}.wav\"  \n",
    "            sound = AudioSegment.from_file(audio_filename, format=\"wav\")\n",
    "            melody_segments.append(sound)\n",
    "\n",
    "        melody = sum(melody_segments)\n",
    "        \n",
    "        melody_filename = f\"{filename}_{save_counter}.wav\"\n",
    "        melody.export(melody_filename, format=\"wav\")\n",
    "\n",
    "        save_counter += 1  "
   ]
  },
  {
   "cell_type": "markdown",
   "metadata": {},
   "source": [
    "#### Método para Resetear la Secuencia"
   ]
  },
  {
   "cell_type": "code",
   "execution_count": 6,
   "metadata": {},
   "outputs": [],
   "source": [
    "def reset_sequence():\n",
    "    global current_sequence\n",
    "    current_sequence = []"
   ]
  },
  {
   "cell_type": "markdown",
   "metadata": {},
   "source": [
    "#### Método para Dibujar el Instrumento"
   ]
  },
  {
   "cell_type": "code",
   "execution_count": 7,
   "metadata": {},
   "outputs": [],
   "source": [
    "def drawAll(img, buttonList):\n",
    "    cv2.rectangle(img, (350, 25 ), (910, 200), (0, 0, 0), cv2.FILLED)\n",
    "    for button in buttonList:\n",
    "        x, y = button.pos\n",
    "        w, h = button.size\n",
    "        colorr = button.color\n",
    "        border = button.border\n",
    "\n",
    "        cv2.rectangle(img, button.pos, (x + w, y + h), colorr, cv2.FILLED)\n",
    "        cv2.rectangle(img, button.pos, (x + w, y + h), (0, 0, 0), border)\n",
    "        cv2.putText(img, button.text, (x + 10, y + h - 10), cv2.FONT_HERSHEY_COMPLEX, 0.5, (214, 0, 220), 2)\n",
    "    \n",
    "    x, y = saveButton.pos\n",
    "    w, h = saveButton.size\n",
    "    colorr = saveButton.color\n",
    "    border = saveButton.border\n",
    "    cv2.rectangle(img, saveButton.pos, (x + w, y + h), colorr, cv2.FILLED)\n",
    "    cv2.rectangle(img, saveButton.pos, (x + w, y + h), (0, 0, 0), border)\n",
    "    cv2.putText(img, saveButton.text, (x + 10, y + h - 10), cv2.FONT_HERSHEY_COMPLEX, 0.5, (214, 0, 220), 2)\n",
    "    \n",
    "    return img"
   ]
  },
  {
   "cell_type": "markdown",
   "metadata": {},
   "source": [
    "#### Bucle Principal"
   ]
  },
  {
   "cell_type": "code",
   "execution_count": 9,
   "metadata": {},
   "outputs": [],
   "source": [
    "cap = cv2.VideoCapture(0)\n",
    "cap.set(3, 1280)\n",
    "cap.set(4, 720)\n",
    "\n",
    "while True:\n",
    "    success, img = cap.read()\n",
    "\n",
    "    img = cv2.flip(img, 1)\n",
    "\n",
    "    hands, img = detector.findHands(img, draw=True, flipType=False)\n",
    "\n",
    "    for button in buttonList:\n",
    "        button.isPressed = False\n",
    "        button.color = (255, 255, 255)  \n",
    "\n",
    "    saveButton.isPressed = False\n",
    "    saveButton.color = (255, 255, 255)\n",
    "\n",
    "    for hand in hands:\n",
    "        lmList = hand[\"lmList\"]\n",
    "        for button in buttonList:\n",
    "            x, y = button.pos\n",
    "            w, h = button.size\n",
    "\n",
    "            if x < lmList[8][0] < x + w and y < lmList[8][1] < y + h:\n",
    "                button.color = (0, 255, 0)\n",
    "                playkeys(button)\n",
    "                button.isPressed = True\n",
    "\n",
    "            x, y = saveButton.pos\n",
    "            w, h = saveButton.size\n",
    "            if (x < lmList[8][0] < x + w and y < lmList[8][1] < y + h) or (x < lmList[12][0] < x + w and y < lmList[12][1] < y + h):\n",
    "                if current_sequence:\n",
    "                    saveButton.isPressed = True\n",
    "                    saveButton.color = (0, 255, 0)\n",
    "                    save_sequence(current_sequence)\n",
    "                    reset_sequence()            \n",
    "\n",
    "    img = drawAll(img, buttonList)\n",
    "\n",
    "    rows, cols, channels = logo.shape\n",
    "    roi = img[0:rows, img.shape[1] - cols:img.shape[1]]\n",
    "    img_bg = cv2.bitwise_and(roi, roi, mask=cv2.bitwise_not(logo[:, :, 3]))\n",
    "    img_fg = cv2.bitwise_and(logo[:, :, 0:3], logo[:, :, 0:3], mask=logo[:, :, 3])\n",
    "    dst = cv2.addWeighted(img_bg, 1, img_fg, 1, 0)\n",
    "    img[0:rows, img.shape[1] - cols:img.shape[1]] = dst\n",
    "\n",
    "    cv2.imshow(\"Virtual Piano\", img)\n",
    "\n",
    "    if cv2.waitKey(1) & 0xFF == ord('q'):\n",
    "        break\n",
    "\n",
    "cap.release()\n",
    "cv2.destroyAllWindows()"
   ]
  }
 ],
 "metadata": {
  "kernelspec": {
   "display_name": "Python 3",
   "language": "python",
   "name": "python3"
  },
  "language_info": {
   "codemirror_mode": {
    "name": "ipython",
    "version": 3
   },
   "file_extension": ".py",
   "mimetype": "text/x-python",
   "name": "python",
   "nbconvert_exporter": "python",
   "pygments_lexer": "ipython3",
   "version": "3.11.5"
  }
 },
 "nbformat": 4,
 "nbformat_minor": 2
}
