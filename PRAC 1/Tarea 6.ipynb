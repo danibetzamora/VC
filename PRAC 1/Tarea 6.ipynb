{
 "cells": [
  {
   "cell_type": "markdown",
   "metadata": {},
   "source": [
    "#### Paquetes necesarios "
   ]
  },
  {
   "cell_type": "code",
   "execution_count": 1,
   "metadata": {},
   "outputs": [],
   "source": [
    "import cv2\n",
    "import numpy as np"
   ]
  },
  {
   "cell_type": "markdown",
   "metadata": {},
   "source": [
    "#### Propuesta de Pop Art 1"
   ]
  },
  {
   "cell_type": "code",
   "execution_count": 9,
   "metadata": {},
   "outputs": [],
   "source": [
    "# Captura de video desde la cámara web\n",
    "vid = cv2.VideoCapture(0)\n",
    "\n",
    "while True:\n",
    "    ret, frame = vid.read()\n",
    "\n",
    "    if ret:\n",
    "        # Convierte el fotograma en escala de grises\n",
    "        gray_frame = cv2.cvtColor(frame, cv2.COLOR_BGR2GRAY)\n",
    "\n",
    "        # Aplica un filtro de detección de bordes estilo lápiz\n",
    "        pencil_frame = cv2.adaptiveThreshold(gray_frame, 255, cv2.ADAPTIVE_THRESH_MEAN_C, cv2.THRESH_BINARY, 9, 5)\n",
    "\n",
    "        # Muestra la imagen resultante\n",
    "        cv2.imshow('Efecto de Dibujo a Lapiz', pencil_frame)\n",
    "\n",
    "    if cv2.waitKey(20) == 27:\n",
    "        break\n",
    "\n",
    "vid.release()\n",
    "cv2.destroyAllWindows()"
   ]
  },
  {
   "cell_type": "markdown",
   "metadata": {},
   "source": [
    "#### Propuesta de Pop Art 2"
   ]
  },
  {
   "cell_type": "code",
   "execution_count": 17,
   "metadata": {},
   "outputs": [],
   "source": [
    "# Inicializar la cámara\n",
    "cap = cv2.VideoCapture(0)  # 0 representa la cámara predeterminada\n",
    "\n",
    "while True:\n",
    "    # Capturar un fotograma desde la cámara\n",
    "    ret, frame = cap.read()\n",
    "\n",
    "    # Reescalar la imagen a una dimensión más pequeña (Cuidado: Al tratar con todos los pixeles, y modificarlos en tiempo real, si la imagen no es pequeña, se ralentiza la visualización)\n",
    "    frame_small = cv2.resize(frame, (200, 200))\n",
    "\n",
    "    # Inicializar un array para almacenar el color dominante de cada pixel\n",
    "    dominant_colors = np.zeros(frame_small.shape, dtype=np.uint8)\n",
    "\n",
    "    # Recorrer cada pixel en la imagen reescalada\n",
    "    for y in range(frame_small.shape[0]):\n",
    "        for x in range(frame_small.shape[1]):\n",
    "            # Obtener el valor RGB del pixel actual\n",
    "            pixel_color = frame_small[y, x]\n",
    "\n",
    "            # Encontrar el índice del canal con el valor más alto (R, G o B)\n",
    "            dominant_channel = np.argmax(pixel_color)\n",
    "\n",
    "            # Crear un array con el color dominante (todos los canales a cero excepto el dominante)\n",
    "            dominant_color = np.zeros(3, dtype=np.uint8)\n",
    "            dominant_color[dominant_channel] = pixel_color[dominant_channel]\n",
    "\n",
    "            # Asignar el color dominante al pixel correspondiente\n",
    "            dominant_colors[y, x] = dominant_color\n",
    "\n",
    "    # Mostrar la imagen con los colores dominantes\n",
    "    cv2.imshow(\"Colores Dominantes\", dominant_colors)\n",
    "\n",
    "    # Salir del bucle si se presiona la tecla 'Esc'\n",
    "    if cv2.waitKey(1) == 27:\n",
    "        break\n",
    "\n",
    "# Liberar la cámara y cerrar las ventanas\n",
    "cap.release()\n",
    "cv2.destroyAllWindows() \n"
   ]
  },
  {
   "cell_type": "markdown",
   "metadata": {},
   "source": [
    "#### Propuesta de Pop Art 3"
   ]
  },
  {
   "cell_type": "code",
   "execution_count": 16,
   "metadata": {},
   "outputs": [],
   "source": [
    "cap = cv2.VideoCapture(0)  # 0 representa la cámara predeterminada\n",
    "\n",
    "while True:\n",
    "    # Capturar un fotograma desde la cámara\n",
    "    ret, frame = cap.read()\n",
    "\n",
    "    # Reescalar la imagen a una dimensión más pequeña \n",
    "    frame_small = cv2.resize(frame, (400, 400))\n",
    "\n",
    "    # Inicializar un array para almacenar el color dominante de cada bloque 8x8\n",
    "    block_size = 8\n",
    "    rows, cols, _  = frame_small.shape\n",
    "    dominant_colors = np.zeros((rows, cols, 3), dtype=np.uint8)\n",
    "\n",
    "    # Recorrer cada bloque 8x8 en la imagen reescalada\n",
    "    for y in range(0, rows, block_size):\n",
    "        for x in range(0, cols, block_size):\n",
    "            # Obtener un bloque 8x8\n",
    "            block = frame_small[y:y+block_size, x:x+block_size]\n",
    "\n",
    "            # Calcular el color dominante en el bloque\n",
    "            block_mean_color = np.mean(np.mean(block, axis=0), axis=0)\n",
    "            block_dominant_color = np.uint8(block_mean_color)\n",
    "\n",
    "            # Asignar el color dominante a todo el bloque\n",
    "            dominant_colors[y:y+block_size, x:x+block_size] = block_dominant_color\n",
    "\n",
    "    # Mostrar la imagen pixelada\n",
    "    cv2.imshow(\"Colores Dominantes\", dominant_colors)\n",
    "\n",
    "    # Salir del bucle si se presiona la tecla 'Esc'\n",
    "    if cv2.waitKey(1) == 27:\n",
    "        break\n",
    "\n",
    "# Liberar la cámara y cerrar las ventanas\n",
    "cap.release()\n",
    "cv2.destroyAllWindows()"
   ]
  }
 ],
 "metadata": {
  "kernelspec": {
   "display_name": "VC_P1",
   "language": "python",
   "name": "python3"
  },
  "language_info": {
   "codemirror_mode": {
    "name": "ipython",
    "version": 3
   },
   "file_extension": ".py",
   "mimetype": "text/x-python",
   "name": "python",
   "nbconvert_exporter": "python",
   "pygments_lexer": "ipython3",
   "version": "3.11.5"
  },
  "orig_nbformat": 4
 },
 "nbformat": 4,
 "nbformat_minor": 2
}
