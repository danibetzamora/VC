{
 "cells": [
  {
   "cell_type": "markdown",
   "metadata": {},
   "source": [
    "#### Paquetes necesarios"
   ]
  },
  {
   "cell_type": "code",
   "execution_count": 21,
   "metadata": {},
   "outputs": [],
   "source": [
    "import cv2  \n",
    "import math \n",
    "from ultralytics import YOLO\n",
    "import matplotlib.pyplot as plt\n",
    "import pytesseract\n",
    "from pytesseract import Output \n",
    "import re"
   ]
  },
  {
   "cell_type": "code",
   "execution_count": 22,
   "metadata": {},
   "outputs": [],
   "source": [
    "def plate_validation(plate):\n",
    "    # Definir el patrón de la matrícula \"0000 AAA\"\n",
    "    plate_pattern = re.compile(r'^\\d{4}\\s[A-Z]{3}$')\n",
    "\n",
    "    if plate_pattern.match(plate):\n",
    "        # La matrícula cumple con el formato\n",
    "        return plate\n",
    "    else:\n",
    "        # La matrícula no cumple con el formato, intentar corregirla\n",
    "        plate_refactored = re.sub(r'^\\s*.*?(\\d{4}\\s[A-Z]{3}).*$', r'\\1', plate)\n",
    "        return plate_refactored"
   ]
  },
  {
   "cell_type": "code",
   "execution_count": 33,
   "metadata": {},
   "outputs": [
    {
     "name": "stderr",
     "output_type": "stream",
     "text": [
      "\n",
      "0: 448x640 1 plate, 89.2ms\n",
      "Speed: 4.0ms preprocess, 89.2ms inference, 1.0ms postprocess per image at shape (1, 3, 448, 640)\n",
      "\n",
      "0: 448x640 1 plate, 92.8ms\n",
      "Speed: 2.0ms preprocess, 92.8ms inference, 0.9ms postprocess per image at shape (1, 3, 448, 640)\n"
     ]
    },
    {
     "name": "stdout",
     "output_type": "stream",
     "text": [
      "tensor(826.4053) tensor(471.3972) tensor(934.9300) tensor(505.7900)\n",
      "\n",
      "[+] MATRÍCULA DETECTADA: 3488 LPZ\n",
      "\n"
     ]
    },
    {
     "data": {
      "image/png": "[encoded data removed]",
      "text/plain": [
       "<Figure size 640x480 with 1 Axes>"
      ]
     },
     "metadata": {},
     "output_type": "display_data"
    }
   ],
   "source": [
    "model_car = YOLO('plates_model.pt')\n",
    "# Guardamos la ruta absoluta de tesseract\n",
    "pytesseract.pytesseract.tesseract_cmd = r'C:/Program Files/Tesseract-OCR/tesseract'\n",
    "\n",
    "# Guardamos imagen en variable\n",
    "coche = cv2.imread(\"Images/coche6.jpg\")\n",
    "\n",
    "results_cars = model_car(coche)\n",
    "\n",
    "# print(results_cars)\n",
    "\n",
    "# Detectar coches\n",
    "results_cars = model_car(coche)\n",
    "\n",
    "# Para cada detección de coche\n",
    "for r_car in results_cars:\n",
    "    boxes_car = r_car.boxes\n",
    "\n",
    "    for box_car in boxes_car:\n",
    "        # Coordenadas del cuadro del coche\n",
    "        x1_car, y1_car, x2_car, y2_car = box_car.xyxy[0]\n",
    "\n",
    "        print(x1_car, y1_car, x2_car, y2_car)\n",
    "    \n",
    "\n",
    "        license_plate_region = coche[int(y1_car):int(y2_car), int(x1_car):int(x2_car)]\n",
    "\n",
    "        text = pytesseract.image_to_string(license_plate_region, config='--psm 8', output_type=Output.STRING)\n",
    "\n",
    "        text = plate_validation(text)\n",
    "\n",
    "        print(\"\\n[+] MATRÍCULA DETECTADA:\", text)\n",
    "\n",
    "        plt.axis(\"off\")\n",
    "        plt.imshow(license_plate_region) \n",
    "        plt.show()"
   ]
  },
  {
   "cell_type": "markdown",
   "metadata": {},
   "source": [
    "#### Tarea 1: Reconocimiento de matrículas básico"
   ]
  },
  {
   "cell_type": "code",
   "execution_count": 1,
   "metadata": {},
   "outputs": [
    {
     "name": "stderr",
     "output_type": "stream",
     "text": [
      "\n",
      "0: 384x640 1 car, 99.3ms\n",
      "Speed: 0.0ms preprocess, 99.3ms inference, 10.2ms postprocess per image at shape (1, 3, 384, 640)\n"
     ]
    },
    {
     "name": "stdout",
     "output_type": "stream",
     "text": [
      "Matrícula: YL eg Cae\n",
      "\n",
      "Matrícula: ES\n",
      "\n",
      "Matrícula: Sern\n",
      "\n",
      "Matrícula: 202 AP\n",
      "\n",
      "Matrícula: >\n",
      "\n"
     ]
    }
   ],
   "source": [
    "import pytesseract\n",
    "from pytesseract import Output \n",
    "import numpy as np\n",
    "import cv2  \n",
    "import math \n",
    "from ultralytics import YOLO\n",
    "\n",
    "# Previamente debes descargar los ejecutables\n",
    "# Si la ruta de Tesseract no está en el PATH, ruta al ejecutable\n",
    "pytesseract.pytesseract.tesseract_cmd = r'C:/Program Files/Tesseract-OCR/tesseract'\n",
    "\n",
    "model_car = YOLO('yolov8n.pt')\n",
    "\n",
    "# Guardamos imagen en variable\n",
    "coche = cv2.imread(\"coche3.jpeg\")\n",
    "\n",
    "plates = []\n",
    "\n",
    "# Detectar coches\n",
    "results_cars = model_car(coche)\n",
    "\n",
    "# Para cada detección de coche\n",
    "for r_car in results_cars:\n",
    "    boxes_car = r_car.boxes\n",
    "\n",
    "    for box_car in boxes_car:\n",
    "        # Coordenadas del cuadro del coche\n",
    "        x1_car, y1_car, x2_car, y2_car = box_car.xyxy[0]\n",
    "\n",
    "        # Definir la región inferior para buscar matrículas\n",
    "        roi_bottom = coche[int((y1_car + y2_car) / 2):int(y2_car), int(x1_car):int(x2_car)]\n",
    "\n",
    "        # Convertir la región a escala de grises\n",
    "        gray_roi_bottom = cv2.cvtColor(roi_bottom, cv2.COLOR_BGR2GRAY)\n",
    "\n",
    "        # Aplicar umbralización adaptativa\n",
    "        _, thresh = cv2.threshold(gray_roi_bottom, 127, 255, cv2.THRESH_BINARY)\n",
    "\n",
    "        cv2.imshow('Thresh', thresh)\n",
    "\n",
    "        # Buscar contornos en la región inferior\n",
    "        contours, _ = cv2.findContours(thresh, cv2.RETR_EXTERNAL, cv2.CHAIN_APPROX_SIMPLE)\n",
    "\n",
    "        # Filtrar contornos\n",
    "        for contour in contours:\n",
    "            # Filtrar por área del contorno\n",
    "            area = cv2.contourArea(contour)\n",
    "            if 500 < area < 5000:  # Ajusta estos valores según tu caso\n",
    "\n",
    "                # Aproximación de polígono para evaluar la forma\n",
    "                epsilon = 0.02 * cv2.arcLength(contour, True)\n",
    "                approx = cv2.approxPolyDP(contour, epsilon, True)\n",
    "\n",
    "                # Filtrar por la relación de aspecto y la forma\n",
    "                x, y, w, h = cv2.boundingRect(contour)\n",
    "                aspect_ratio = float(w) / h\n",
    "                if 2 < aspect_ratio < 5 and len(approx) >=4:\n",
    "                    # Ajustar las coordenadas al espacio global de la imagen\n",
    "                    x, y, w, h = int(x + x1_car), int(y + (y1_car + y2_car) / 2), int(w), int(h)\n",
    "\n",
    "                    # Extraer la región de la matrícula como una nueva imagen\n",
    "                    license_plate_region = coche[y:y + h, x+10:x + w]\n",
    "                    # Aplicar pytesseract a la región de la matrícula\n",
    "                    text = pytesseract.image_to_string(license_plate_region, config='--psm 8', output_type=Output.STRING)\n",
    "\n",
    "                    if text in plates:\n",
    "                        continue\n",
    "\n",
    "                    print(\"Matrícula:\", text)\n",
    "\n",
    "\n",
    "                    plates.append(text)\n",
    "\n",
    "                    # Dibujar cuadro alrededor del contorno\n",
    "                    cv2.rectangle(coche, (x, y), (x + w, y + h), (0, 255, 0), 3)\n",
    "                    cv2.imshow('Matrícula', license_plate_region)\n",
    "                    \n",
    "                            \n",
    "\n",
    "# Muestra la imagen con las detecciones\n",
    "cv2.imshow('Vid', coche)\n",
    "cv2.waitKey(0)\n",
    "cv2.destroyAllWindows()\n"
   ]
  }
 ],
 "metadata": {
  "kernelspec": {
   "display_name": "VC_P1",
   "language": "python",
   "name": "python3"
  },
  "language_info": {
   "codemirror_mode": {
    "name": "ipython",
    "version": 3
   },
   "file_extension": ".py",
   "mimetype": "text/x-python",
   "name": "python",
   "nbconvert_exporter": "python",
   "pygments_lexer": "ipython3",
   "version": "3.11.5"
  }
 },
 "nbformat": 4,
 "nbformat_minor": 2
}
