{
 "cells": [
  {
   "cell_type": "markdown",
   "metadata": {},
   "source": [
    "#### Importación de paquetes"
   ]
  },
  {
   "cell_type": "code",
   "execution_count": 1,
   "metadata": {},
   "outputs": [],
   "source": [
    "import cv2\n",
    "import dlib"
   ]
  },
  {
   "cell_type": "markdown",
   "metadata": {},
   "source": [
    "\n",
    "#### Aplicación de filtro divertido con detector facial basado en Convolutional Neural Networks (CNNs)"
   ]
  },
  {
   "cell_type": "code",
   "execution_count": 2,
   "metadata": {},
   "outputs": [],
   "source": [
    "# Cargamos el detector de caras de dlib (shape_predictor_68_face_landmarks.dat)\n",
    "detector = dlib.get_frontal_face_detector()\n",
    "predictor = dlib.shape_predictor(\"shape_predictor_68_face_landmarks.dat\")\n",
    "\n",
    "# Inicializamos la cámara\n",
    "cap = cv2.VideoCapture(0)  # 0 representa la cámara web predeterminada, puedes cambiarlo si tienes múltiples cámaras\n",
    "\n",
    "while True:\n",
    "    # Capturamos un fotograma de la cámara\n",
    "    ret, frame = cap.read()\n",
    "\n",
    "    if not ret:\n",
    "        print(\"No se pudo capturar un fotograma de la cámara.\")\n",
    "        break\n",
    "\n",
    "    # Detección de caras en el fotograma\n",
    "    gray = cv2.cvtColor(frame, cv2.COLOR_BGR2GRAY)\n",
    "    faces = detector(gray)\n",
    "\n",
    "    # Almacenar caras detectadas\n",
    "    detected_faces = []\n",
    "\n",
    "    for face in faces:\n",
    "        x, y, w, h = face.left(), face.top(), face.width(), face.height()\n",
    "        detected_faces.append((x, y, w, h))\n",
    "\n",
    "    # Si se detectaron exactamente dos caras, intercambiarlas y redimensionar al tamaño de la cara más grande\n",
    "    if len(detected_faces) == 2:\n",
    "        x1, y1, w1, h1 = detected_faces[0]\n",
    "        x2, y2, w2, h2 = detected_faces[1]\n",
    "\n",
    "        # Verificar que las dimensiones de las caras sean válidas\n",
    "        if w1 > 0 and h1 > 0 and w2 > 0 and h2 > 0:\n",
    "            # Calcular el área de las caras\n",
    "            area1 = w1 * h1\n",
    "            area2 = w2 * h2\n",
    "\n",
    "            # Elegir la cara más grande y su ubicación\n",
    "            if area1 > area2:\n",
    "                target_x, target_y, target_w, target_h = x1, y1, w1, h1\n",
    "                source_x, source_y, source_w, source_h = x2, y2, w2, h2\n",
    "            else:\n",
    "                target_x, target_y, target_w, target_h = x2, y2, w2, h2\n",
    "                source_x, source_y, source_w, source_h = x1, y1, w1, h1\n",
    "\n",
    "            # Verificar que las caras redimensionadas se ajusten al límite del marco\n",
    "            target_x = max(0, target_x)\n",
    "            target_y = max(0, target_y)\n",
    "            target_x = min(frame.shape[1] - target_w, target_x)\n",
    "            target_y = min(frame.shape[0] - target_h, target_y)\n",
    "\n",
    "            source_x = max(0, source_x)\n",
    "            source_y = max(0, source_y)\n",
    "            source_x = min(frame.shape[1] - target_w, source_x)\n",
    "            source_y = min(frame.shape[0] - target_h, source_y)\n",
    "\n",
    "            # Redimensionar ambas caras al tamaño de la cara más grande\n",
    "            face1_resized = cv2.resize(frame[source_y:source_y + source_h, source_x:source_x + source_w], \n",
    "                                       (target_w, target_h))\n",
    "            face2_resized = cv2.resize(frame[target_y:target_y + target_h, target_x:target_x + target_w], \n",
    "                                       (source_w, source_h))\n",
    "\n",
    "            # Intercambiar las caras escaladas usando la función addWeighted\n",
    "            alpha = 1  \n",
    "            frame[target_y:target_y + target_h, target_x:target_x + target_w] = cv2.addWeighted(\n",
    "                frame[target_y:target_y + target_h, target_x:target_x + target_w], 1 - alpha, \n",
    "                face1_resized, alpha, 0\n",
    "            )\n",
    "            frame[source_y:source_y + source_h, source_x:source_x + source_w] = cv2.addWeighted(\n",
    "                frame[source_y:source_y + source_h, source_x:source_x + source_w], 1 - alpha, \n",
    "                face2_resized, alpha, 0\n",
    "            )\n",
    "\n",
    "    # Dibujar un rectángulo alrededor de las caras\n",
    "    for x, y, w, h in detected_faces:\n",
    "        cv2.rectangle(frame, (x, y), (x + w, y + h), (0, 255, 0), 2)\n",
    "\n",
    "    # Mostrar el fotograma con las caras intercambiadas y escaladas\n",
    "    cv2.imshow('Intercambio de caras en tiempo real', frame)\n",
    "\n",
    "    # Esc para finalizar\n",
    "    tec = cv2.waitKey(40)\n",
    "    if tec == 27:  # Esc\n",
    "        break\n",
    "\n",
    "# Liberar la cámara y cerrar todas las ventanas\n",
    "cap.release()\n",
    "cv2.destroyAllWindows()\n"
   ]
  }
 ],
 "metadata": {
  "kernelspec": {
   "display_name": "VC_P1_JVS",
   "language": "python",
   "name": "python3"
  },
  "language_info": {
   "codemirror_mode": {
    "name": "ipython",
    "version": 3
   },
   "file_extension": ".py",
   "mimetype": "text/x-python",
   "name": "python",
   "nbconvert_exporter": "python",
   "pygments_lexer": "ipython3",
   "version": "3.11.5"
  }
 },
 "nbformat": 4,
 "nbformat_minor": 2
}
