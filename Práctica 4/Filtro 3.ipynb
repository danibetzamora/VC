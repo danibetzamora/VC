{
 "cells": [
  {
   "cell_type": "markdown",
   "metadata": {},
   "source": [
    "#### Importación de paquetes"
   ]
  },
  {
   "cell_type": "code",
   "execution_count": 21,
   "metadata": {},
   "outputs": [],
   "source": [
    "import cv2\n",
    "import FaceDetectors"
   ]
  },
  {
   "cell_type": "markdown",
   "metadata": {},
   "source": [
    "#### Filtro que intercambia ojos y boca aplicando el detector facial basado en Convolutional Neural Networks (CNNs)"
   ]
  },
  {
   "cell_type": "code",
   "execution_count": 22,
   "metadata": {},
   "outputs": [
    {
     "name": "stdout",
     "output_type": "stream",
     "text": [
      "Cámara 0\n"
     ]
    }
   ],
   "source": [
    "# Inicializa el detector facial\n",
    "FDet = FaceDetectors.FaceDetector()\n",
    "\n",
    "# Conectar a la cámara web\n",
    "cap = cv2.VideoCapture(0)\n",
    "\n",
    "# Verificar si hay otras cámaras disponibles\n",
    "if not cap.isOpened():\n",
    "    cap = cv2.VideoCapture(1)\n",
    "    if not cap.isOpened():\n",
    "        cap = cv2.VideoCapture(0)\n",
    "        if not cap.isOpened():\n",
    "            print('Error de cam')\n",
    "            exit(0)\n",
    "        else:\n",
    "            print('Cam 0')\n",
    "    else:\n",
    "        print('Cam 1')\n",
    "else:\n",
    "    print('Cam 0')\n",
    "\n",
    "# Establecer la resolución de la cámara\n",
    "cap.set(3, 640)\n",
    "cap.set(4, 480)\n",
    "\n",
    "# Variable que aumenta la región de los ojos y la boca\n",
    "ajuste = 10\n",
    "\n",
    "while True:\n",
    "    # Capturar un fotograma de la cámara\n",
    "    ret, frame = cap.read()\n",
    "\n",
    "    # Detección de rostro y ojos en el fotograma\n",
    "    values = FDet.DetectLargestFaceEyesDNN(frame)\n",
    "    if values is not None:\n",
    "        face, eyes, shape = values\n",
    "\n",
    "        # Dibujar un marco alrededor del rostro\n",
    "        [x, y, w, h] = face\n",
    "        if x > -1:\n",
    "            [lex, ley, rex, rey] = eyes\n",
    "            if lex > -1:\n",
    "                # Obtener la región de los ojos y la boca con un margen\n",
    "                region_ojo_1 = frame[shape[37][1]-ajuste:shape[40][1]+ajuste, shape[36][0]-ajuste:shape[39][0]+ajuste].copy()\n",
    "                region_ojo_2 = frame[shape[43][1]-ajuste:shape[46][1]+ajuste, shape[42][0]-ajuste:shape[45][0]+ajuste].copy()\n",
    "                region_boca = frame[shape[50][1]-ajuste:shape[58][1]+ajuste, shape[48][0]-ajuste:shape[54][0]+ajuste].copy()\n",
    "\n",
    "                # Verificar si las regiones tienen dimensiones válidas\n",
    "                if region_ojo_1.shape[0] > 0 and region_ojo_1.shape[1] > 0 and  \\\n",
    "                region_ojo_2.shape[0] > 0 and region_ojo_2.shape[1] > 0 and \\\n",
    "                region_boca.shape[0] > 0 and region_boca.shape[1] > 0:\n",
    "                    \n",
    "                    # Asegurarse de que las regiones tengan las mismas dimensiones\n",
    "                    region_ojos_redimensionada = cv2.resize(region_ojo_1, (region_boca.shape[1], region_boca.shape[0]))\n",
    "                    region_boca_1_redimensionada = cv2.resize(region_boca, (region_ojo_1.shape[1], region_ojo_1.shape[0]))\n",
    "                    region_boca_2_redimensionada = cv2.resize(region_boca, (region_ojo_2.shape[1], region_ojo_2.shape[0]))\n",
    "\n",
    "                    # Superponer la región del ojo en la región de la boca y viceversa\n",
    "                    alpha = 1  \n",
    "                    superposicion1 = cv2.addWeighted(region_boca, 1 - alpha, region_ojos_redimensionada, alpha, 0)\n",
    "                    superposicion2 = cv2.addWeighted(region_ojo_1, 1 - alpha, region_boca_1_redimensionada, alpha, 0)\n",
    "                    superposicion3 = cv2.addWeighted(region_ojo_2, 1 - alpha, region_boca_2_redimensionada, alpha, 0)\n",
    "\n",
    "\n",
    "                    frame[shape[50][1]-ajuste:shape[58][1]+ajuste, shape[48][0]-ajuste:shape[54][0]+ajuste] = superposicion1\n",
    "                    frame[shape[37][1]-ajuste:shape[40][1]+ajuste, shape[36][0]-ajuste:shape[39][0]+ajuste] = superposicion2\n",
    "                    frame[shape[43][1]-ajuste:shape[46][1]+ajuste, shape[42][0]-ajuste:shape[45][0]+ajuste] = superposicion3\n",
    "    cv2.imshow('Cam', frame)\n",
    "    \n",
    "    # Esc para finalizar\n",
    "    tec = cv2.waitKey(40)\n",
    "    if tec == 27:  # Esc\n",
    "        break\n",
    "\n",
    "# Cerrar la ventana y liberar la cámara\n",
    "cap.release()\n",
    "cv2.destroyAllWindows()\n"
   ]
  }
 ],
 "metadata": {
  "kernelspec": {
   "display_name": "VC_P1",
   "language": "python",
   "name": "python3"
  },
  "language_info": {
   "codemirror_mode": {
    "name": "ipython",
    "version": 3
   },
   "file_extension": ".py",
   "mimetype": "text/x-python",
   "name": "python",
   "nbconvert_exporter": "python",
   "pygments_lexer": "ipython3",
   "version": "3.11.5"
  }
 },
 "nbformat": 4,
 "nbformat_minor": 2
}
