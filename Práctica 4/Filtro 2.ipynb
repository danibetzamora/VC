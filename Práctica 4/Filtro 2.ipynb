{
 "cells": [
  {
   "cell_type": "markdown",
   "metadata": {},
   "source": [
    "#### Importación de paquetes"
   ]
  },
  {
   "cell_type": "code",
   "execution_count": 18,
   "metadata": {},
   "outputs": [],
   "source": [
    "import cv2\n",
    "import FaceDetectors"
   ]
  },
  {
   "cell_type": "markdown",
   "metadata": {},
   "source": [
    "#### Comparación de gafas con detector facial basado en Convolutional Neural Networks (CNNs)"
   ]
  },
  {
   "cell_type": "code",
   "execution_count": 20,
   "metadata": {},
   "outputs": [
    {
     "name": "stdout",
     "output_type": "stream",
     "text": [
      "Cam 0\n"
     ]
    }
   ],
   "source": [
    "# Inicializar el detector facial\n",
    "FDet = FaceDetectors.FaceDetector()\n",
    "\n",
    "# Cargar las imágenes de las gafas\n",
    "gafas1 = cv2.imread('Images/aviador.png', cv2.IMREAD_UNCHANGED)\n",
    "gafas2 = cv2.imread('Images/deportivas.png', cv2.IMREAD_UNCHANGED)\n",
    "gafas3 = cv2.imread('Images/estilizadas.png', cv2.IMREAD_UNCHANGED)\n",
    "gafas4 = cv2.imread('Images/fashion.png', cv2.IMREAD_UNCHANGED)\n",
    "gafas5 = cv2.imread('Images/modernas.png', cv2.IMREAD_UNCHANGED)\n",
    "\n",
    "# Redimensionamos las imágenes de las gafas\n",
    "gafas1 = cv2.resize(gafas1, (gafas1.shape[1] // 5, gafas1.shape[0] // 5))\n",
    "gafas2 = cv2.resize(gafas2, (gafas2.shape[1] // 5, gafas2.shape[0] // 5))\n",
    "gafas3 = cv2.resize(gafas3, (gafas3.shape[1] // 7, gafas3.shape[0] // 7))\n",
    "gafas4 = cv2.resize(gafas4, (gafas4.shape[1] // 4, gafas4.shape[0] // 4))\n",
    "gafas5 = cv2.resize(gafas5, (gafas5.shape[1] // 5, gafas5.shape[0] // 5))\n",
    "\n",
    "# Lista con las gafas para intercambiar entre ellas\n",
    "gafas = [gafas1, gafas2, gafas3, gafas4, gafas5]\n",
    "\n",
    "# Variable que controla que gafa se visualiza\n",
    "control_gafas = 0\n",
    "\n",
    "# Conectar a la cámara web\n",
    "cap = cv2.VideoCapture(0)\n",
    "\n",
    "# Verificar si hay otras cámaras disponibles\n",
    "if not cap.isOpened():\n",
    "    cap = cv2.VideoCapture(1)\n",
    "    if not cap.isOpened():\n",
    "        cap = cv2.VideoCapture(0)\n",
    "        if not cap.isOpened():\n",
    "            print('Error de cam')\n",
    "            exit(0)\n",
    "        else:\n",
    "            print('Cam 0')\n",
    "    else:\n",
    "        print('Cam 1')\n",
    "else:\n",
    "    print('Cam 0')\n",
    "\n",
    "# Establecer la resolución de la cámara\n",
    "cap.set(3, 640)\n",
    "cap.set(4, 480)\n",
    "\n",
    "def superponer_filtro(frame, filtro, shape_index, x_offset, y_offset):\n",
    "    x_filtro = shape[shape_index][0] - int(filtro.shape[1] / 2)\n",
    "    y_filtro = shape[shape_index][1] - int(filtro.shape[0] / 2) + y_offset\n",
    "\n",
    "    if x_filtro >= 0 and y_filtro >= 0 and \\\n",
    "    (x_filtro + filtro.shape[1] <= frame.shape[1]) and \\\n",
    "    (y_filtro + filtro.shape[0] <= frame.shape[0]):\n",
    "        \n",
    "        filtro_resized = cv2.resize(filtro, (int(filtro.shape[1]), int(filtro.shape[0])))\n",
    "        alpha = filtro_resized[:, :, 3] / 255.0\n",
    "\n",
    "        for c in range(0, 3):\n",
    "            frame[y_filtro:y_filtro + filtro_resized.shape[0], x_filtro:x_filtro + filtro_resized.shape[1], c] = \\\n",
    "            (\n",
    "                frame[y_filtro:y_filtro + filtro_resized.shape[0], x_filtro:x_filtro + filtro_resized.shape[1], c] * \n",
    "                (1 - alpha) + filtro_resized[:, :, c] * alpha\n",
    "            )\n",
    "\n",
    "while True:\n",
    "    # Capturar un fotograma de la cámara\n",
    "    ret, frame = cap.read()\n",
    "\n",
    "    # Detección de rostro y ojos en el fotograma\n",
    "    values = FDet.DetectLargestFaceEyesDNN(frame)\n",
    "    if values is not None:\n",
    "        face, eyes, shape = values\n",
    "\n",
    "        # Dibujar un marco alrededor del rostro\n",
    "        [x, y, w, h] = face\n",
    "        if x > -1:\n",
    "            [lex, ley, rex, rey] = eyes\n",
    "            if lex > -1:\n",
    "                superponer_filtro(frame, gafas[control_gafas], 27, 0, 10)\n",
    "\n",
    "    cv2.imshow('Cam', frame)\n",
    "    \n",
    "    # Esc para finalizar\n",
    "    tec = cv2.waitKey(40)\n",
    "\n",
    "    if tec == 27:  # Esc\n",
    "        break\n",
    "\n",
    "    # Cambio de gafas\n",
    "    elif tec & 0xFF == ord('d'):\n",
    "        control_gafas += 1\n",
    "        if control_gafas >= len(gafas):\n",
    "            control_gafas = 0\n",
    "\n",
    "# Cerrar la ventana y liberar la cámara\n",
    "cap.release()\n",
    "cv2.destroyAllWindows()\n"
   ]
  }
 ],
 "metadata": {
  "kernelspec": {
   "display_name": "VC_P1",
   "language": "python",
   "name": "python3"
  },
  "language_info": {
   "codemirror_mode": {
    "name": "ipython",
    "version": 3
   },
   "file_extension": ".py",
   "mimetype": "text/x-python",
   "name": "python",
   "nbconvert_exporter": "python",
   "pygments_lexer": "ipython3",
   "version": "3.11.5"
  }
 },
 "nbformat": 4,
 "nbformat_minor": 2
}
