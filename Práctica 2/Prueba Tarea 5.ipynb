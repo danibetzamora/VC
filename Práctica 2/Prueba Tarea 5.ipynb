{
 "cells": [
  {
   "cell_type": "code",
   "execution_count": 5,
   "metadata": {},
   "outputs": [],
   "source": [
    "import cv2\n",
    "\n",
    "# Inicializa la cámara web\n",
    "vid = cv2.VideoCapture(0)\n",
    "\n",
    "# Carga el clasificador de ojos (asegúrate de tener el archivo 'haarcascade_eye.xml' en el mismo directorio)\n",
    "eye_cascade = cv2.CascadeClassifier('Resources/haarcascade_eye.xml')\n",
    "\n",
    "while True:\n",
    "    ret, frame = vid.read()\n",
    "    \n",
    "    if ret:\n",
    "        # Convierte el cuadro a escala de grises\n",
    "        gray_frame = cv2.cvtColor(frame, cv2.COLOR_BGR2GRAY)\n",
    "        \n",
    "        # Detecta ojos en el cuadro\n",
    "        eyes = eye_cascade.detectMultiScale(gray_frame, scaleFactor=1.3, minNeighbors=5, minSize=(30, 30))\n",
    "        \n",
    "        # Dibuja un rectángulo alrededor de cada ojo detectado\n",
    "        for (x, y, w, h) in eyes:\n",
    "            cv2.rectangle(frame, (x, y), (x + w, y + h), (0, 255, 0), 2)\n",
    "        \n",
    "        # Muestra el cuadro con las detecciones de ojos\n",
    "        cv2.imshow('Detección de Ojos', frame)\n",
    "    \n",
    "    # Sale del bucle si se presiona la tecla 'Esc'\n",
    "    if cv2.waitKey(20) == 27:\n",
    "        break\n",
    "\n",
    "# Libera la cámara y cierra todas las ventanas\n",
    "vid.release()\n",
    "cv2.destroyAllWindows()"
   ]
  }
 ],
 "metadata": {
  "kernelspec": {
   "display_name": "VC_P1",
   "language": "python",
   "name": "python3"
  },
  "language_info": {
   "codemirror_mode": {
    "name": "ipython",
    "version": 3
   },
   "file_extension": ".py",
   "mimetype": "text/x-python",
   "name": "python",
   "nbconvert_exporter": "python",
   "pygments_lexer": "ipython3",
   "version": "3.11.5"
  },
  "orig_nbformat": 4
 },
 "nbformat": 4,
 "nbformat_minor": 2
}
