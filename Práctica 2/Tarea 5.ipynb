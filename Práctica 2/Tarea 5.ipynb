{
 "cells": [
  {
   "cell_type": "markdown",
   "metadata": {},
   "source": [
    "#### Paquetes necesarios"
   ]
  },
  {
   "cell_type": "code",
   "execution_count": 5,
   "metadata": {},
   "outputs": [],
   "source": [
    "import cv2"
   ]
  },
  {
   "cell_type": "markdown",
   "metadata": {},
   "source": [
    "#### Clasificador de ojos OpenCV"
   ]
  },
  {
   "cell_type": "code",
   "execution_count": 6,
   "metadata": {},
   "outputs": [],
   "source": [
    "# Carga el clasificador de ojos de OpenCV\n",
    "eye_cascade = cv2.CascadeClassifier('Resources/haarcascade_eye.xml')"
   ]
  },
  {
   "cell_type": "markdown",
   "metadata": {},
   "source": [
    "#### Detector de ojos mediante webcam"
   ]
  },
  {
   "cell_type": "code",
   "execution_count": 4,
   "metadata": {},
   "outputs": [],
   "source": [
    "# Inicializa la cámara web\n",
    "vid = cv2.VideoCapture(0)\n",
    "\n",
    "while True:\n",
    "    ret, frame = vid.read()\n",
    "    \n",
    "    if ret:\n",
    "        # Convierte el cuadro a escala de grises\n",
    "        gray_frame = cv2.cvtColor(frame, cv2.COLOR_BGR2GRAY)\n",
    "        \n",
    "        # Detecta ojos en el cuadro\n",
    "        eyes = eye_cascade.detectMultiScale(gray_frame, scaleFactor=1.3, minNeighbors=5, minSize=(30, 30))\n",
    "        \n",
    "        # Dibuja un rectángulo alrededor de cada ojo detectado\n",
    "        for (x, y, w, h) in eyes:\n",
    "            cv2.rectangle(frame, (x, y), (x + w, y + h), (0, 255, 0), 2)\n",
    "        \n",
    "        # Muestra el cuadro con las detecciones de ojos\n",
    "        cv2.imshow('Detección de Ojos', frame)\n",
    "    \n",
    "    # Sale del bucle si se presiona la tecla 'Esc'\n",
    "    if cv2.waitKey(20) == 27:\n",
    "        break\n",
    "\n",
    "# Libera la cámara y cierra todas las ventanas\n",
    "vid.release()\n",
    "cv2.destroyAllWindows()"
   ]
  },
  {
   "cell_type": "markdown",
   "metadata": {},
   "source": [
    "#### Ocultación de ojos mediante webcam"
   ]
  },
  {
   "cell_type": "code",
   "execution_count": 9,
   "metadata": {},
   "outputs": [],
   "source": [
    "cap = cv2.VideoCapture(0)\n",
    "\n",
    "while True:\n",
    "    ret, frame = cap.read()\n",
    "    \n",
    "    if not ret:\n",
    "        break\n",
    "\n",
    "    gray = cv2.cvtColor(frame, cv2.COLOR_BGR2GRAY)\n",
    "\n",
    "    # Detecta los ojos en la imagen\n",
    "    eyes = eye_cascade.detectMultiScale(gray, scaleFactor=1.3, minNeighbors=5, minSize=(30, 30))\n",
    "\n",
    "    # Calcula la posición y el tamaño de la banda negra que cubrirá ambos ojos\n",
    "    if len(eyes) >= 2:\n",
    "        x1, y1, w1, h1 = eyes[0]\n",
    "        x2, y2, w2, h2 = eyes[1]\n",
    "        x = min(x1, x2)\n",
    "        y = min(y1, y2)\n",
    "        width = max(x1 + w1, x2 + w2) - x\n",
    "        height = max(y1 + h1, y2 + h2) - y\n",
    "\n",
    "        # Dibuja una banda negra horizontal que cubre ambos ojos\n",
    "        cv2.rectangle(frame, (x, y), (x + width, y + int(height)), (0, 0, 0), -1)\n",
    "\n",
    "    # Muestra la imagen resultante\n",
    "    cv2.imshow('Banda negra sobre ojos',frame)\n",
    "\n",
    "    if cv2.waitKey(20) == 27:\n",
    "        break\n",
    "\n",
    "# Libera los recursos\n",
    "cap.release()\n",
    "cv2.destroyAllWindows()"
   ]
  }
 ],
 "metadata": {
  "kernelspec": {
   "display_name": "VC_P1",
   "language": "python",
   "name": "python3"
  },
  "language_info": {
   "codemirror_mode": {
    "name": "ipython",
    "version": 3
   },
   "file_extension": ".py",
   "mimetype": "text/x-python",
   "name": "python",
   "nbconvert_exporter": "python",
   "pygments_lexer": "ipython3",
   "version": "3.11.5"
  },
  "orig_nbformat": 4
 },
 "nbformat": 4,
 "nbformat_minor": 2
}
